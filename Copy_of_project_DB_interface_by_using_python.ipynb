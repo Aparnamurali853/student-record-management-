{
  "nbformat": 4,
  "nbformat_minor": 0,
  "metadata": {
    "colab": {
      "provenance": [],
      "authorship_tag": "ABX9TyOKviqlYYWpUas/TZiRI73b",
      "include_colab_link": true
    },
    "kernelspec": {
      "name": "python3",
      "display_name": "Python 3"
    },
    "language_info": {
      "name": "python"
    }
  },
  "cells": [
    {
      "cell_type": "markdown",
      "metadata": {
        "id": "view-in-github",
        "colab_type": "text"
      },
      "source": [
        "<a href=\"https://colab.research.google.com/github/Aparnamurali853/student-record-management-/blob/main/Copy_of_project_DB_interface_by_using_python.ipynb\" target=\"_parent\"><img src=\"https://colab.research.google.com/assets/colab-badge.svg\" alt=\"Open In Colab\"/></a>"
      ]
    },
    {
      "cell_type": "code",
      "execution_count": null,
      "metadata": {
        "colab": {
          "base_uri": "https://localhost:8080/"
        },
        "id": "-wa5lI28w8r0",
        "outputId": "ee6599f2-ed40-471a-cd4c-9a512a5ce2d7"
      },
      "outputs": [
        {
          "output_type": "stream",
          "name": "stdout",
          "text": [
            "\n",
            "Student Record Management System\n",
            "1. Add Student\n",
            "2. View Students\n",
            "3. Update Student\n",
            "4. Delete Student\n",
            "5. Exit\n",
            "Enter your choice: 5\n",
            "Exiting the program.\n"
          ]
        }
      ],
      "source": [
        "import sqlite3\n",
        "\n",
        "def connect_db():\n",
        "    # Connect to SQLite database (or create it if it doesn't exist)\n",
        "    conn = sqlite3.connect(\"students.db\")\n",
        "    cursor = conn.cursor()\n",
        "    # Create the table if it doesn't exist\n",
        "    cursor.execute('''CREATE TABLE IF NOT EXISTS students (\n",
        "                        id INTEGER PRIMARY KEY AUTOINCREMENT,\n",
        "                        name TEXT NOT NULL,\n",
        "                        age INTEGER NOT NULL,\n",
        "                        grade TEXT NOT NULL\n",
        "                    )''')\n",
        "    conn.commit()\n",
        "    return conn\n",
        "\n",
        "def add_student(conn, name, age, grade):\n",
        "    cursor = conn.cursor()\n",
        "    cursor.execute(\"INSERT INTO students (name, age, grade) VALUES (?, ?, ?)\", (name, age, grade))\n",
        "    conn.commit()\n",
        "    print(\"Student added successfully!\")\n",
        "\n",
        "def view_students(conn):\n",
        "    cursor = conn.cursor()\n",
        "    cursor.execute(\"SELECT * FROM students\")\n",
        "    records = cursor.fetchall()\n",
        "    print(\"\\nStudent Records:\")\n",
        "    print(\"ID | Name           | Age | Grade\")\n",
        "    print(\"-----------------------------------\")\n",
        "    for record in records:\n",
        "        print(f\"{record[0]:<3} | {record[1]:<14} | {record[2]:<3} | {record[3]}\")\n",
        "\n",
        "def update_student(conn, student_id, name, age, grade):\n",
        "    cursor = conn.cursor()\n",
        "    cursor.execute(\"UPDATE students SET name = ?, age = ?, grade = ? WHERE id = ?\", (name, age, grade, student_id))\n",
        "    conn.commit()\n",
        "    if cursor.rowcount:\n",
        "        print(\"Student updated successfully!\")\n",
        "    else:\n",
        "        print(\"Student ID not found.\")\n",
        "\n",
        "def delete_student(conn, student_id):\n",
        "    cursor = conn.cursor()\n",
        "    cursor.execute(\"DELETE FROM students WHERE id = ?\", (student_id,))\n",
        "    conn.commit()\n",
        "    if cursor.rowcount:\n",
        "        print(\"Student deleted successfully!\")\n",
        "    else:\n",
        "        print(\"Student ID not found.\")\n",
        "\n",
        "def main():\n",
        "    conn = connect_db()\n",
        "    while True:\n",
        "        print(\"\\nStudent Record Management System\")\n",
        "        print(\"1. Add Student\")\n",
        "        print(\"2. View Students\")\n",
        "        print(\"3. Update Student\")\n",
        "        print(\"4. Delete Student\")\n",
        "        print(\"5. Exit\")\n",
        "        choice = input(\"Enter your choice: \")\n",
        "\n",
        "        if choice == \"1\":\n",
        "            name = input(\"Enter name: \")\n",
        "            age = int(input(\"Enter age: \"))\n",
        "            grade = input(\"Enter grade: \")\n",
        "            add_student(conn, name, age, grade)\n",
        "\n",
        "        elif choice == \"2\":\n",
        "            view_students(conn)\n",
        "\n",
        "        elif choice == \"3\":\n",
        "            student_id = int(input(\"Enter student ID to update: \"))\n",
        "            name = input(\"Enter new name: \")\n",
        "            age = int(input(\"Enter new age: \"))\n",
        "            grade = input(\"Enter new grade: \")\n",
        "            update_student(conn, student_id, name, age, grade)\n",
        "\n",
        "        elif choice == \"4\":\n",
        "            student_id = int(input(\"Enter student ID to delete: \"))\n",
        "            delete_student(conn, student_id)\n",
        "\n",
        "        elif choice == \"5\":\n",
        "            conn.close()\n",
        "            print(\"Exiting the program.\")\n",
        "            break\n",
        "\n",
        "        else:\n",
        "            print(\"Invalid choice. Please try again.\")\n",
        "\n",
        "if __name__ == \"__main__\":\n",
        "    main()"
      ]
    }
  ]
}